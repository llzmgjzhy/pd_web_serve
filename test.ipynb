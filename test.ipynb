{
 "cells": [
  {
   "cell_type": "code",
   "execution_count": 11,
   "metadata": {},
   "outputs": [],
   "source": [
    "import re"
   ]
  },
  {
   "cell_type": "code",
   "execution_count": 17,
   "metadata": {},
   "outputs": [
    {
     "name": "stdout",
     "output_type": "stream",
     "text": [
      "6\n"
     ]
    }
   ],
   "source": [
    "numbers = [0.000001, 1234567.89, 0.00000000000000123]\n",
    "\n",
    "# 将小数转化为科学计数法字符串\n",
    "scientific_notation = [\"{:.2e}\".format(num) for num in numbers]\n",
    "\n",
    "print(int(scientific_notation[1].split('e')[1]))"
   ]
  }
 ],
 "metadata": {
  "kernelspec": {
   "display_name": "web-dev",
   "language": "python",
   "name": "python3"
  },
  "language_info": {
   "codemirror_mode": {
    "name": "ipython",
    "version": 3
   },
   "file_extension": ".py",
   "mimetype": "text/x-python",
   "name": "python",
   "nbconvert_exporter": "python",
   "pygments_lexer": "ipython3",
   "version": "3.8.18"
  }
 },
 "nbformat": 4,
 "nbformat_minor": 2
}
